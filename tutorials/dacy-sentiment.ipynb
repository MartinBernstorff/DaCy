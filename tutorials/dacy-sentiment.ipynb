{
 "cells": [
  {
   "cell_type": "markdown",
   "metadata": {},
   "source": [
    "# DaCy and Sentiment\n",
    "DaCy currently does not include its own tools for sentiment extraction, but a couple of good tools already exists. DaCy providers wrappers for these to use them in the SpaCy/DaCy framework."
   ]
  },
  {
   "cell_type": "code",
   "execution_count": 1,
   "metadata": {},
   "outputs": [
    {
     "name": "stdout",
     "output_type": "stream",
     "text": [
      "Requirement already satisfied: dacy[all] in /Users/au561649/.virtualenvs/dacy_tutorials/lib/python3.8/site-packages (1.0.0)\n",
      "Requirement already satisfied: spacy>=3.0.3 in /Users/au561649/.virtualenvs/dacy_tutorials/lib/python3.8/site-packages (from dacy[all]) (3.1.0)\n",
      "Requirement already satisfied: tqdm>=4.42.1 in /Users/au561649/.virtualenvs/dacy_tutorials/lib/python3.8/site-packages (from dacy[all]) (4.61.2)\n",
      "Requirement already satisfied: spacy-transformers>=1.0.1 in /Users/au561649/.virtualenvs/dacy_tutorials/lib/python3.8/site-packages (from dacy[all]) (1.0.3)\n",
      "Requirement already satisfied: pandas>=1.0.0 in /Users/au561649/.virtualenvs/dacy_tutorials/lib/python3.8/site-packages (from dacy[all]) (1.3.0)\n",
      "Requirement already satisfied: danlp in /Users/au561649/.virtualenvs/dacy_tutorials/lib/python3.8/site-packages (from dacy[all]) (0.0.11)\n",
      "Requirement already satisfied: numpy>=1.17.3 in /Users/au561649/.virtualenvs/dacy_tutorials/lib/python3.8/site-packages (from pandas>=1.0.0->dacy[all]) (1.21.0)\n",
      "Requirement already satisfied: pytz>=2017.3 in /Users/au561649/.virtualenvs/dacy_tutorials/lib/python3.8/site-packages (from pandas>=1.0.0->dacy[all]) (2021.1)\n",
      "Requirement already satisfied: python-dateutil>=2.7.3 in /Users/au561649/.virtualenvs/dacy_tutorials/lib/python3.8/site-packages (from pandas>=1.0.0->dacy[all]) (2.8.1)\n",
      "Requirement already satisfied: six>=1.5 in /Users/au561649/.virtualenvs/dacy_tutorials/lib/python3.8/site-packages (from python-dateutil>=2.7.3->pandas>=1.0.0->dacy[all]) (1.16.0)\n",
      "Requirement already satisfied: spacy-legacy<3.1.0,>=3.0.7 in /Users/au561649/.virtualenvs/dacy_tutorials/lib/python3.8/site-packages (from spacy>=3.0.3->dacy[all]) (3.0.8)\n",
      "Requirement already satisfied: cymem<2.1.0,>=2.0.2 in /Users/au561649/.virtualenvs/dacy_tutorials/lib/python3.8/site-packages (from spacy>=3.0.3->dacy[all]) (2.0.5)\n",
      "Requirement already satisfied: murmurhash<1.1.0,>=0.28.0 in /Users/au561649/.virtualenvs/dacy_tutorials/lib/python3.8/site-packages (from spacy>=3.0.3->dacy[all]) (1.0.5)\n",
      "Requirement already satisfied: catalogue<2.1.0,>=2.0.4 in /Users/au561649/.virtualenvs/dacy_tutorials/lib/python3.8/site-packages (from spacy>=3.0.3->dacy[all]) (2.0.4)\n",
      "Requirement already satisfied: srsly<3.0.0,>=2.4.1 in /Users/au561649/.virtualenvs/dacy_tutorials/lib/python3.8/site-packages (from spacy>=3.0.3->dacy[all]) (2.4.1)\n",
      "Requirement already satisfied: pydantic!=1.8,!=1.8.1,<1.9.0,>=1.7.4 in /Users/au561649/.virtualenvs/dacy_tutorials/lib/python3.8/site-packages (from spacy>=3.0.3->dacy[all]) (1.8.2)\n",
      "Requirement already satisfied: jinja2 in /Users/au561649/.virtualenvs/dacy_tutorials/lib/python3.8/site-packages (from spacy>=3.0.3->dacy[all]) (3.0.1)\n",
      "Requirement already satisfied: packaging>=20.0 in /Users/au561649/.virtualenvs/dacy_tutorials/lib/python3.8/site-packages (from spacy>=3.0.3->dacy[all]) (21.0)\n",
      "Requirement already satisfied: setuptools in /Users/au561649/.virtualenvs/dacy_tutorials/lib/python3.8/site-packages (from spacy>=3.0.3->dacy[all]) (57.0.0)\n",
      "Requirement already satisfied: preshed<3.1.0,>=3.0.2 in /Users/au561649/.virtualenvs/dacy_tutorials/lib/python3.8/site-packages (from spacy>=3.0.3->dacy[all]) (3.0.5)\n",
      "Requirement already satisfied: typer<0.4.0,>=0.3.0 in /Users/au561649/.virtualenvs/dacy_tutorials/lib/python3.8/site-packages (from spacy>=3.0.3->dacy[all]) (0.3.2)\n",
      "Requirement already satisfied: requests<3.0.0,>=2.13.0 in /Users/au561649/.virtualenvs/dacy_tutorials/lib/python3.8/site-packages (from spacy>=3.0.3->dacy[all]) (2.25.1)\n",
      "Requirement already satisfied: thinc<8.1.0,>=8.0.7 in /Users/au561649/.virtualenvs/dacy_tutorials/lib/python3.8/site-packages (from spacy>=3.0.3->dacy[all]) (8.0.7)\n",
      "Requirement already satisfied: wasabi<1.1.0,>=0.8.1 in /Users/au561649/.virtualenvs/dacy_tutorials/lib/python3.8/site-packages (from spacy>=3.0.3->dacy[all]) (0.8.2)\n",
      "Requirement already satisfied: blis<0.8.0,>=0.4.0 in /Users/au561649/.virtualenvs/dacy_tutorials/lib/python3.8/site-packages (from spacy>=3.0.3->dacy[all]) (0.4.1)\n",
      "Requirement already satisfied: pathy>=0.3.5 in /Users/au561649/.virtualenvs/dacy_tutorials/lib/python3.8/site-packages (from spacy>=3.0.3->dacy[all]) (0.6.0)\n",
      "Requirement already satisfied: pyparsing>=2.0.2 in /Users/au561649/.virtualenvs/dacy_tutorials/lib/python3.8/site-packages (from packaging>=20.0->spacy>=3.0.3->dacy[all]) (2.4.7)\n",
      "Requirement already satisfied: smart-open<6.0.0,>=5.0.0 in /Users/au561649/.virtualenvs/dacy_tutorials/lib/python3.8/site-packages (from pathy>=0.3.5->spacy>=3.0.3->dacy[all]) (5.1.0)\n",
      "Requirement already satisfied: typing-extensions>=3.7.4.3 in /Users/au561649/.virtualenvs/dacy_tutorials/lib/python3.8/site-packages (from pydantic!=1.8,!=1.8.1,<1.9.0,>=1.7.4->spacy>=3.0.3->dacy[all]) (3.10.0.0)\n",
      "Requirement already satisfied: chardet<5,>=3.0.2 in /Users/au561649/.virtualenvs/dacy_tutorials/lib/python3.8/site-packages (from requests<3.0.0,>=2.13.0->spacy>=3.0.3->dacy[all]) (4.0.0)\n",
      "Requirement already satisfied: idna<3,>=2.5 in /Users/au561649/.virtualenvs/dacy_tutorials/lib/python3.8/site-packages (from requests<3.0.0,>=2.13.0->spacy>=3.0.3->dacy[all]) (2.10)\n",
      "Requirement already satisfied: certifi>=2017.4.17 in /Users/au561649/.virtualenvs/dacy_tutorials/lib/python3.8/site-packages (from requests<3.0.0,>=2.13.0->spacy>=3.0.3->dacy[all]) (2021.5.30)\n",
      "Requirement already satisfied: urllib3<1.27,>=1.21.1 in /Users/au561649/.virtualenvs/dacy_tutorials/lib/python3.8/site-packages (from requests<3.0.0,>=2.13.0->spacy>=3.0.3->dacy[all]) (1.26.6)\n",
      "Requirement already satisfied: transformers<4.7.0,>=3.4.0 in /Users/au561649/.virtualenvs/dacy_tutorials/lib/python3.8/site-packages (from spacy-transformers>=1.0.1->dacy[all]) (3.5.1)\n",
      "Requirement already satisfied: spacy-alignments<1.0.0,>=0.7.2 in /Users/au561649/.virtualenvs/dacy_tutorials/lib/python3.8/site-packages (from spacy-transformers>=1.0.1->dacy[all]) (0.8.3)\n",
      "Requirement already satisfied: torch>=1.5.0 in /Users/au561649/.virtualenvs/dacy_tutorials/lib/python3.8/site-packages (from spacy-transformers>=1.0.1->dacy[all]) (1.6.0)\n",
      "Requirement already satisfied: future in /Users/au561649/.virtualenvs/dacy_tutorials/lib/python3.8/site-packages (from torch>=1.5.0->spacy-transformers>=1.0.1->dacy[all]) (0.18.2)\n",
      "Requirement already satisfied: filelock in /Users/au561649/.virtualenvs/dacy_tutorials/lib/python3.8/site-packages (from transformers<4.7.0,>=3.4.0->spacy-transformers>=1.0.1->dacy[all]) (3.0.12)\n",
      "Requirement already satisfied: regex!=2019.12.17 in /Users/au561649/.virtualenvs/dacy_tutorials/lib/python3.8/site-packages (from transformers<4.7.0,>=3.4.0->spacy-transformers>=1.0.1->dacy[all]) (2018.1.10)\n",
      "Requirement already satisfied: sentencepiece==0.1.91 in /Users/au561649/.virtualenvs/dacy_tutorials/lib/python3.8/site-packages (from transformers<4.7.0,>=3.4.0->spacy-transformers>=1.0.1->dacy[all]) (0.1.91)\n",
      "Requirement already satisfied: sacremoses in /Users/au561649/.virtualenvs/dacy_tutorials/lib/python3.8/site-packages (from transformers<4.7.0,>=3.4.0->spacy-transformers>=1.0.1->dacy[all]) (0.0.45)\n",
      "Requirement already satisfied: protobuf in /Users/au561649/.virtualenvs/dacy_tutorials/lib/python3.8/site-packages (from transformers<4.7.0,>=3.4.0->spacy-transformers>=1.0.1->dacy[all]) (3.17.3)\n",
      "Requirement already satisfied: tokenizers==0.9.3 in /Users/au561649/.virtualenvs/dacy_tutorials/lib/python3.8/site-packages (from transformers<4.7.0,>=3.4.0->spacy-transformers>=1.0.1->dacy[all]) (0.9.3)\n",
      "Requirement already satisfied: click<7.2.0,>=7.1.1 in /Users/au561649/.virtualenvs/dacy_tutorials/lib/python3.8/site-packages (from typer<0.4.0,>=0.3.0->spacy>=3.0.3->dacy[all]) (7.1.2)\n",
      "Requirement already satisfied: pyconll in /Users/au561649/.virtualenvs/dacy_tutorials/lib/python3.8/site-packages (from danlp->dacy[all]) (3.1.0)\n",
      "Requirement already satisfied: tweepy in /Users/au561649/.virtualenvs/dacy_tutorials/lib/python3.8/site-packages (from danlp->dacy[all]) (3.10.0)\n",
      "Requirement already satisfied: MarkupSafe>=2.0 in /Users/au561649/.virtualenvs/dacy_tutorials/lib/python3.8/site-packages (from jinja2->spacy>=3.0.3->dacy[all]) (2.0.1)\n",
      "Requirement already satisfied: joblib in /Users/au561649/.virtualenvs/dacy_tutorials/lib/python3.8/site-packages (from sacremoses->transformers<4.7.0,>=3.4.0->spacy-transformers>=1.0.1->dacy[all]) (1.0.1)\n",
      "Requirement already satisfied: requests-oauthlib>=0.7.0 in /Users/au561649/.virtualenvs/dacy_tutorials/lib/python3.8/site-packages (from tweepy->danlp->dacy[all]) (1.3.0)\n",
      "Requirement already satisfied: oauthlib>=3.0.0 in /Users/au561649/.virtualenvs/dacy_tutorials/lib/python3.8/site-packages (from requests-oauthlib>=0.7.0->tweepy->danlp->dacy[all]) (3.1.1)\n",
      "Requirement already satisfied: PySocks!=1.5.7,>=1.5.6 in /Users/au561649/.virtualenvs/dacy_tutorials/lib/python3.8/site-packages (from requests<3.0.0,>=2.13.0->spacy>=3.0.3->dacy[all]) (1.7.1)\n",
      "\u001b[33mWARNING: You are using pip version 21.0.1; however, version 21.1.3 is available.\n",
      "You should consider upgrading via the '/Users/au561649/.virtualenvs/dacy_tutorials/bin/python -m pip install --upgrade pip' command.\u001b[0m\n"
     ]
    }
   ],
   "source": [
    "#!pip install dacy[all]\n",
    "#!python -m spacy download da_core_news_sm"
   ]
  },
  {
   "cell_type": "code",
   "execution_count": 2,
   "metadata": {},
   "outputs": [],
   "source": [
    "import dacy\n",
    "import spacy"
   ]
  },
  {
   "cell_type": "markdown",
   "metadata": {},
   "source": [
    "# Overiew of Models\n",
    "--- \n",
    "\n",
    "| Name  | Creator   | Domain   | Output Type  | Model Type | \n",
    "|:---|:-------------|:------|:------|:------|\n",
    "| Senda | Ekstra Bladet  | Twitter  | `['postive', 'neutral', 'negative']` | Danish Transformer v2 by BotXO | \n",
    "| BertTone | DaNLP  | Europarl and Twitter  | `['postive', 'neutral', 'negative'] and ['subjective', 'objective']` | Danish Transformer v2 by BotXO | \n",
    "| BertEmotion | DaNLP | Social Media   | `[\"Emotional\", \"No emotion\"] and  [\"Glæde/Sindsro\", \"Tillid/Accept\", ... ]` | Danish Transformer v2 by BotXO | \n",
    "| DaVader | Sentida    | Microblogs and Social media  | `Polarity score (continuous)`     | Rule-based | \n",
    "\n",
    "*Note* that DaVader is a variation of Sentida and not the original implementation.\n"
   ]
  },
  {
   "cell_type": "markdown",
   "metadata": {},
   "source": [
    "## Senda\n",
    "\n",
    "Senda is a model trained by Ekstra Bladet on a [danish Twitter corpus](https://github.com/alexandrainst/danlp/blob/master/docs/docs/tasks/sentiment_analysis.md) tagged for polarity. Compared to the BertTone model senda should have a higher performance on Twitter data. Read more about `senda` on its associated [github](https://github.com/ebanalyse/senda).\n",
    "\n",
    "Here I will show a simple use case of the model and how to add it to your pipeline:"
   ]
  },
  {
   "cell_type": "code",
   "execution_count": 4,
   "metadata": {},
   "outputs": [],
   "source": [
    "from dacy.sentiment import add_senda\n",
    "\n",
    "# an empty pipeline - replace it with your pipeline of choice\n",
    "nlp = spacy.blank(\"da\")\n",
    "\n",
    "nlp = add_senda(nlp)"
   ]
  },
  {
   "cell_type": "code",
   "execution_count": 5,
   "metadata": {},
   "outputs": [
    {
     "name": "stdout",
     "output_type": "stream",
     "text": [
      "positive\n",
      "{'prop': array([0.063, 0.169, 0.768], dtype=float32), 'labels': ['negative', 'neutral', 'positive']}\n",
      "negative\n",
      "{'prop': array([0.718, 0.194, 0.088], dtype=float32), 'labels': ['negative', 'neutral', 'positive']}\n",
      "neutral\n",
      "{'prop': array([0.041, 0.869, 0.09 ], dtype=float32), 'labels': ['negative', 'neutral', 'positive']}\n"
     ]
    }
   ],
   "source": [
    "texts = [\"Sikke en dejlig dag det er i dag\", \"Sikke noget forfærdeligt møgvejr det er i dag\", \"FC København og Brøndby IF i duel om mesterskabet\"]\n",
    "\n",
    "docs = nlp.pipe(texts)\n",
    "\n",
    "for doc in docs:\n",
    "    print(doc._.polarity)\n",
    "    print(doc._.polarity_prop)"
   ]
  },
  {
   "cell_type": "markdown",
   "metadata": {},
   "source": [
    "## BertTone\n",
    "---\n",
    "\n",
    "BertTone is a model trained by DaNLP, (well, two to be exact). One for classification of polarity (whether a sentence is positive, negative or neutral) and one for subjectivity (whether a text is subjective or not).\n",
    "\n",
    "To read more about BertTone as well as its performance matched against other models see DaNLP's [GitHub](https://github.com/alexandrainst/danlp/blob/master/docs/docs/tasks/sentiment_analysis.md).\n",
    "\n",
    "Here I will show a simple use case of both models. If you wish to inspect the TransformerData to see e.g. the used wordpieces you can check out the `doc._.berttone_subj_trf_data` or `doc._.berttone_pol_trf_data`"
   ]
  },
  {
   "cell_type": "code",
   "execution_count": 6,
   "metadata": {},
   "outputs": [
    {
     "name": "stdout",
     "output_type": "stream",
     "text": [
      "huggingface/tokenizers: The current process just got forked, after parallelism has already been used. Disabling parallelism to avoid deadlocks...\n",
      "To disable this warning, you can either:\n",
      "\t- Avoid using `tokenizers` before the fork if possible\n",
      "\t- Explicitly set the environment variable TOKENIZERS_PARALLELISM=(true | false)\n",
      "Downloading file /var/folders/7m/95dm37bj475fgzncclln12fcyj4nph/T/tmpv2l07ewu: : 411MB [01:37, 4.22MB/s]                         \n",
      "Unzipping bert.subjective \n"
     ]
    }
   ],
   "source": [
    "from dacy.sentiment import add_berttone_subjectivity\n",
    "\n",
    "nlp = spacy.blank(\"da\")\n",
    "nlp = add_berttone_subjectivity(nlp)"
   ]
  },
  {
   "cell_type": "code",
   "execution_count": 7,
   "metadata": {},
   "outputs": [
    {
     "name": "stdout",
     "output_type": "stream",
     "text": [
      "objective\n",
      "{'prop': array([1., 0.], dtype=float32), 'labels': ['objective', 'subjective']}\n",
      "subjective\n",
      "{'prop': array([0., 1.], dtype=float32), 'labels': ['objective', 'subjective']}\n"
     ]
    }
   ],
   "source": [
    "texts = [\"Analysen viser, at økonomien bliver forfærdelig dårlig\", \n",
    "         \"Jeg tror alligevel, det bliver godt\"]\n",
    "\n",
    "docs = nlp.pipe(texts)\n",
    "\n",
    "for doc in docs:\n",
    "    print(doc._.subjectivity)\n",
    "    print(doc._.subjectivity_prop)"
   ]
  },
  {
   "cell_type": "code",
   "execution_count": 9,
   "metadata": {},
   "outputs": [
    {
     "name": "stdout",
     "output_type": "stream",
     "text": [
      "Model bert.polarity exists in /Users/au561649/.danlp/bert.polarity\n",
      "negative\n",
      "{'prop': array([0.002, 0.008, 0.99 ], dtype=float32), 'labels': ['positive', 'neutral', 'negative']}\n",
      "positive\n",
      "{'prop': array([0.981, 0.019, 0.   ], dtype=float32), 'labels': ['positive', 'neutral', 'negative']}\n"
     ]
    }
   ],
   "source": [
    "from dacy.sentiment import add_berttone_polarity\n",
    "nlp = add_berttone_polarity(nlp, force_extension=True) # force_extension let us overwrite the polarity from using senda\n",
    "\n",
    "docs = nlp.pipe(texts)\n",
    "\n",
    "for doc in docs:\n",
    "    print(doc._.polarity)\n",
    "    print(doc._.polarity_prop)"
   ]
  },
  {
   "cell_type": "markdown",
   "metadata": {},
   "source": [
    "BertEmotion\n",
    "---\n",
    "\n",
    "Siliar to BertTone, BertEmotion is a model trained by DaNLP (again, two to be exact). One for classifying whether a text is emotionally laden or not, and one for specific emotion classification from the following list:\n",
    "\n",
    "- \"Glæde/Sindsro\"\n",
    "- \"Tillid/Accept\"\n",
    "- \"Forventning/Interrese\"\n",
    "- \"Overasket/Målløs\"\n",
    "- \"Vrede/Irritation\"\n",
    "- \"Foragt/Modvilje\"\n",
    "- \"Sorg/trist\"\n",
    "- \"Frygt/Bekymret\"\n",
    "\n",
    "Their transformerData can be accessed using `bertemotion_laden_trf_data` for the model whether a text is emotionally laden and `bertemotion_emo_trf_data` for the model predicting emotion. Similarly to above, you can always use the `*_prop` prefix to extract the probabilities of each label."
   ]
  },
  {
   "cell_type": "code",
   "execution_count": 10,
   "metadata": {},
   "outputs": [
    {
     "name": "stderr",
     "output_type": "stream",
     "text": [
      "Downloading file /var/folders/7m/95dm37bj475fgzncclln12fcyj4nph/T/tmpky9rq3r3: : 411MB [01:28, 4.65MB/s]                         \n",
      "Unzipping bert.noemotion \n",
      "Downloading file /var/folders/7m/95dm37bj475fgzncclln12fcyj4nph/T/tmpdpfuybr4: : 411MB [01:36, 4.25MB/s]                         \n",
      "Unzipping bert.emotion \n"
     ]
    }
   ],
   "source": [
    "from dacy.sentiment import add_bertemotion_emo, add_bertemotion_laden\n",
    "nlp = add_bertemotion_laden(nlp)  # whether a text is emotionally laden\n",
    "nlp = add_bertemotion_emo(nlp)    # what emotion is portrayed"
   ]
  },
  {
   "cell_type": "code",
   "execution_count": 6,
   "metadata": {},
   "outputs": [
    {
     "name": "stdout",
     "output_type": "stream",
     "text": [
      "Emotional\n",
      "\t Tillid/Accept\n",
      "Emotional\n",
      "\t Tillid/Accept\n",
      "Emotional\n",
      "\t Sorg/trist\n",
      "Emotional\n",
      "\t Frygt/Bekymret\n",
      "Emotional\n",
      "\t Sorg/trist\n",
      "Emotional\n",
      "\t Overasket/Målløs\n",
      "Emotional\n",
      "\t Forventning/Interrese\n",
      "Emotional\n",
      "\t Foragt/Modvilje\n"
     ]
    }
   ],
   "source": [
    "texts = ['bilen er flot', \n",
    "         'jeg ejer en rød bil og det er en god bil', \n",
    "         'jeg ejer en rød bil men den er gået i stykker', \n",
    "         \"Ifølge TV udsendelsen så bliver vejret skidt imorgen\",  \n",
    "         \"Fuck jeg hader bare Hitler. Han er bare så FUCKING træls!\",\n",
    "         \"Har i set at Tesla har landet en raket på månen? Det er vildt!!\",\n",
    "         \"Nu må vi altså få ændret noget\",\n",
    "         \"En sten kan ikke flyve. Morlille kan ikke flyve. Ergo er morlille en sten!\"]\n",
    "\n",
    "docs = nlp.pipe(texts)\n",
    "\n",
    "for doc in docs:\n",
    "    print(doc._.laden)\n",
    "    print(\"\\t\", doc._.emotion)"
   ]
  },
  {
   "cell_type": "markdown",
   "metadata": {},
   "source": [
    "Unfortunately, it seems to be difficult to construct a sentence that is predicted as neutral (edit: I actually made an [issue](https://github.com/alexandrainst/danlp/issues/122) on this on DaNLP git, feel free to check it out for more information). As with any ML model, use with care and evaluate thoroughly."
   ]
  },
  {
   "cell_type": "markdown",
   "metadata": {},
   "source": [
    "## DaVader\n",
    "\n",
    "---\n",
    "\n",
    "DaVader is a Danish Sentiment model developed using [Vader](https://github.com/fnielsen/afinn) and the dictionary lists from [SentiDa](https://github.com/guscode/sentida) and [AFINN](https://github.com/fnielsen/afinn). This adaption is developed by Center for Humanities Computing Aarhus and Kenneth Enevoldsen. It is a lexicon and rule-based sentiment analysis tool which predicts sentiment valence: the degree to which a text is positive or negative - as opposed to BertTone which simply predicts whether or not it is.\n",
    "\n",
    "An additional advantage of it being rule-based is that it is transparent (the entire lexion can be found in the sentiment folder) and very fast compared to transformer-based approaches."
   ]
  },
  {
   "cell_type": "code",
   "execution_count": 11,
   "metadata": {},
   "outputs": [],
   "source": [
    "from spacy.tokens import Doc\n",
    "from dacy.sentiment import da_vader_getter\n",
    "\n",
    "Doc.set_extension(\"vader_da\", getter=da_vader_getter)"
   ]
  },
  {
   "cell_type": "code",
   "execution_count": 12,
   "metadata": {},
   "outputs": [
    {
     "name": "stdout",
     "output_type": "stream",
     "text": [
      "{'neg': 0.0, 'neu': 0.36, 'pos': 0.64, 'compound': 0.7456}\n",
      "{'neg': 0.088, 'neu': 0.395, 'pos': 0.518, 'compound': 0.674}\n",
      "{'neg': 0.1, 'neu': 0.688, 'pos': 0.212, 'compound': 0.0772}\n"
     ]
    }
   ],
   "source": [
    "nlp = spacy.load(\"da_core_news_sm\")\n",
    "texts = ['Jeg er så glad', 'jeg ejer en rød bil og det er en god bil', 'jeg ejer en rød bil men den er gået i stykker']\n",
    "\n",
    "docs = nlp.pipe(texts)\n",
    "\n",
    "for doc in docs:\n",
    "    print(doc._.vader_da)"
   ]
  },
  {
   "cell_type": "markdown",
   "metadata": {},
   "source": [
    "If you are have never used a VADER model before we suggest you read the [\"about the scoring\"](https://github.com/cjhutto/vaderSentiment#about-the-scoring) on the website for the original (English) VADER implementation."
   ]
  }
 ],
 "metadata": {
  "interpreter": {
   "hash": "69f6eb96a37a43867553731f8edb0a55a5852b5c9c304e04d7bd7872e5b1c11d"
  },
  "kernelspec": {
   "display_name": "Python 3.9.1 64-bit ('dacy': venv)",
   "name": "python3"
  },
  "language_info": {
   "name": "python",
   "version": ""
  },
  "orig_nbformat": 2
 },
 "nbformat": 4,
 "nbformat_minor": 2
}
